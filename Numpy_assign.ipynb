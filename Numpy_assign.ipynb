{
 "cells": [
  {
   "cell_type": "code",
   "execution_count": 38,
   "metadata": {},
   "outputs": [],
   "source": [
    "import numpy as np\n",
    "import cmath"
   ]
  },
  {
   "cell_type": "code",
   "execution_count": 39,
   "metadata": {},
   "outputs": [
    {
     "data": {
      "text/plain": [
       "array([[ 0,  1,  2,  3,  4],\n",
       "       [ 5,  6,  7,  8,  9],\n",
       "       [10, 11, 12, 13, 14],\n",
       "       [15, 16, 17, 18, 19],\n",
       "       [20, 21, 22, 23, 24],\n",
       "       [25, 26, 27, 28, 29],\n",
       "       [30, 31, 32, 33, 34],\n",
       "       [35, 36, 37, 38, 39]])"
      ]
     },
     "execution_count": 39,
     "metadata": {},
     "output_type": "execute_result"
    }
   ],
   "source": [
    "arr1=np.arange(40).reshape(8,5)\n",
    "arr1\n"
   ]
  },
  {
   "cell_type": "code",
   "execution_count": 40,
   "metadata": {},
   "outputs": [
    {
     "data": {
      "text/plain": [
       "array([[ 0,  2,  4],\n",
       "       [ 5,  7,  9],\n",
       "       [10, 12, 14],\n",
       "       [15, 17, 19],\n",
       "       [20, 22, 24],\n",
       "       [25, 27, 29],\n",
       "       [30, 32, 34],\n",
       "       [35, 37, 39]])"
      ]
     },
     "execution_count": 40,
     "metadata": {},
     "output_type": "execute_result"
    }
   ],
   "source": [
    "# Q1. From arr1 you have to fetch out every alternate column starting from col1\n",
    "arr1[:,::2]"
   ]
  },
  {
   "cell_type": "code",
   "execution_count": 41,
   "metadata": {},
   "outputs": [
    {
     "data": {
      "text/plain": [
       "array([[ 0,  2,  4],\n",
       "       [15, 17, 19],\n",
       "       [30, 32, 34]])"
      ]
     },
     "execution_count": 41,
     "metadata": {},
     "output_type": "execute_result"
    }
   ],
   "source": [
    " #Q2. From arr1 fetch an array which would contain {0,2,4} {15,17,19} and {30,32,34}\n",
    "arr1[::3,::2]"
   ]
  },
  {
   "cell_type": "code",
   "execution_count": 42,
   "metadata": {},
   "outputs": [
    {
     "data": {
      "text/plain": [
       "array([[1421, 3399, 5709, 5825, 4446],\n",
       "       [1240, 6294, 8949, 2708, 3635]])"
      ]
     },
     "execution_count": 42,
     "metadata": {},
     "output_type": "execute_result"
    }
   ],
   "source": [
    "# Setup for next question\n",
    "\n",
    "# Generating a random numpy array of intergers ranging between 1 and 100\n",
    "\n",
    "arr2=np.random.randint(low=1, high=10000, size=10).reshape(2,5)\n",
    "arr2\n"
   ]
  },
  {
   "cell_type": "code",
   "execution_count": 43,
   "metadata": {},
   "outputs": [
    {
     "data": {
      "text/plain": [
       "array([[0.02347905, 0.28006226, 0.57971202, 0.59475937, 0.41587755],\n",
       "       [0.        , 0.65559735, 1.        , 0.19042677, 0.31067583]])"
      ]
     },
     "execution_count": 43,
     "metadata": {},
     "output_type": "execute_result"
    }
   ],
   "source": [
    "#Normalization rescales the values into a range of [0,1].\n",
    "#This might be useful in some cases where all parameters need to have the same positive scale. \n",
    "#You have to do this a lot in machine learning for eg you are working with 2 cols, one is total runs scored by a batsman(in the scale of 1000s), and the second is number of matches played by him(in the scale of 10s). \n",
    "#The formula for normalization is given below\n",
    "# Xchanged=(X−Xmin)/(Xmax−Xmin)\n",
    "# Q3. Write a code to normalize arr2.\n",
    "(arr2-arr2.min())/(arr2.max()-arr2.min())"
   ]
  },
  {
   "cell_type": "code",
   "execution_count": 44,
   "metadata": {},
   "outputs": [
    {
     "data": {
      "text/plain": [
       "array([[False, False,  True],\n",
       "       [False, False, False],\n",
       "       [ True,  True, False]])"
      ]
     },
     "execution_count": 44,
     "metadata": {},
     "output_type": "execute_result"
    }
   ],
   "source": [
    "# Q4. How would you check if your numpy array has some missing values?\n",
    "\n",
    "# Hint: Thoda research karo numpy me existing functions hai\n",
    "arr4=np.array([[1,2,np.nan],[4,5,6],[np.nan,np.nan,9]])\n",
    "np.isnan(arr4)\n",
    "\n"
   ]
  },
  {
   "cell_type": "code",
   "execution_count": 45,
   "metadata": {},
   "outputs": [
    {
     "data": {
      "text/plain": [
       "3"
      ]
     },
     "execution_count": 45,
     "metadata": {},
     "output_type": "execute_result"
    }
   ],
   "source": [
    "# Q5. Write a function which will accept 2 arguments.\n",
    "# First: A 1D numpy array arr\n",
    "# Second: An integer n {Please make sure n<=len(arr)}\n",
    "\n",
    "# Output: The output should be the nth largest item out of the array\n",
    "\n",
    "# Example1 : arr=(12,34,40,7,1,0) and n=3, the output should be 12\n",
    "# Example2 : arr=(12,34,40,7,1,0) and n=1, the output should be 40\n",
    "\n",
    "a=np.arange(6)\n",
    "a\n",
    "n=3\n",
    "a.sort()\n",
    "a[len(a)-n]\n",
    "\n",
    "\n"
   ]
  },
  {
   "cell_type": "code",
   "execution_count": 46,
   "metadata": {},
   "outputs": [
    {
     "data": {
      "text/plain": [
       "array([[ 0,  1,  2,  3,  4],\n",
       "       [ 5,  6,  7,  8,  9],\n",
       "       [10, 11, 12, 13, 14],\n",
       "       [15, 16, 17, 18, 19]])"
      ]
     },
     "execution_count": 46,
     "metadata": {},
     "output_type": "execute_result"
    }
   ],
   "source": [
    "# Setup for next questions\n",
    "\n",
    "arr3=np.arange(20).reshape(4,5)\n",
    "arr3"
   ]
  },
  {
   "cell_type": "code",
   "execution_count": 47,
   "metadata": {},
   "outputs": [
    {
     "data": {
      "text/plain": [
       "array([ 0,  5, 10, 15])"
      ]
     },
     "execution_count": 47,
     "metadata": {},
     "output_type": "execute_result"
    }
   ],
   "source": [
    "# Q6 Write a numpy code to swap col1([0,5,10,15]) with col4([3,8,13,18])\n",
    "# Hint----> Fancy Indexing\n",
    "x=arr3[:,0].copy()\n",
    "arr3[:,0]=arr3[:,-2]\n",
    "x"
   ]
  },
  {
   "cell_type": "code",
   "execution_count": 48,
   "metadata": {},
   "outputs": [
    {
     "data": {
      "text/plain": [
       "array([[ 3,  1,  2,  3,  4],\n",
       "       [ 8,  6,  7,  8,  9],\n",
       "       [13, 11, 12, 13, 14],\n",
       "       [18, 16, 17, 18, 19]])"
      ]
     },
     "execution_count": 48,
     "metadata": {},
     "output_type": "execute_result"
    }
   ],
   "source": [
    "arr3[:,[-2,1,2,0,-1]]"
   ]
  },
  {
   "cell_type": "code",
   "execution_count": 49,
   "metadata": {},
   "outputs": [
    {
     "data": {
      "text/plain": [
       "array([[ 3,  1,  2,  0,  4],\n",
       "       [ 8,  6,  7,  5,  9],\n",
       "       [13, 11, 12, 10, 14],\n",
       "       [18, 16, 17, 15, 19]])"
      ]
     },
     "execution_count": 49,
     "metadata": {},
     "output_type": "execute_result"
    }
   ],
   "source": [
    "arr3[:,-2]=x\n",
    "arr3"
   ]
  },
  {
   "cell_type": "code",
   "execution_count": 50,
   "metadata": {},
   "outputs": [
    {
     "data": {
      "text/plain": [
       "array([[18, 16, 17, 15, 19],\n",
       "       [13, 11, 12, 10, 14],\n",
       "       [ 8,  6,  7,  5,  9],\n",
       "       [ 3,  1,  2,  0,  4]])"
      ]
     },
     "execution_count": 50,
     "metadata": {},
     "output_type": "execute_result"
    }
   ],
   "source": [
    "# Q7 Write a numpy code to reverse the rows of arr1\n",
    "# The output should be [15, 16, 17, 18, 19] as first row and [ 0,  1,  2,  3,  4] as last row\n",
    "arr3[3::-1]"
   ]
  },
  {
   "cell_type": "code",
   "execution_count": 51,
   "metadata": {},
   "outputs": [
    {
     "data": {
      "text/plain": [
       "array([[ 1.,  2., nan],\n",
       "       [ 4.,  5.,  6.],\n",
       "       [nan, nan,  9.]])"
      ]
     },
     "execution_count": 51,
     "metadata": {},
     "output_type": "execute_result"
    }
   ],
   "source": [
    "# Set up for next question\n",
    "\n",
    "arr4=np.array([[1,2,np.nan],[4,5,6],[np.nan,np.nan,9]])\n",
    "arr4"
   ]
  },
  {
   "cell_type": "code",
   "execution_count": 52,
   "metadata": {},
   "outputs": [
    {
     "data": {
      "text/plain": [
       "array([[1. , 2. , 4.5],\n",
       "       [4. , 5. , 6. ],\n",
       "       [4.5, 4.5, 9. ]])"
      ]
     },
     "execution_count": 52,
     "metadata": {},
     "output_type": "execute_result"
    }
   ],
   "source": [
    "# Q8 Write a code to replace all the nan(missing values) of arr4 with the mean of arr4\n",
    "arr4[np.isnan(arr4)]=np.nanmean(arr4)\n",
    "arr4"
   ]
  },
  {
   "cell_type": "code",
   "execution_count": 55,
   "metadata": {},
   "outputs": [
    {
     "data": {
      "text/plain": [
       "array([[58, 31, 22, 99],\n",
       "       [25, 72, 88,  3],\n",
       "       [16, 37, 55, 89],\n",
       "       [94, 98, 40, 77],\n",
       "       [67, 69, 76, 98]])"
      ]
     },
     "execution_count": 55,
     "metadata": {},
     "output_type": "execute_result"
    }
   ],
   "source": [
    "# Set up for next question\n",
    "\n",
    "arr5=np.random.randint(low=1,high=100,size=20).reshape(5,4)\n",
    "arr5"
   ]
  },
  {
   "cell_type": "code",
   "execution_count": 56,
   "metadata": {},
   "outputs": [
    {
     "data": {
      "text/plain": [
       "array([99, 72, 69])"
      ]
     },
     "execution_count": 56,
     "metadata": {},
     "output_type": "execute_result"
    }
   ],
   "source": [
    "# Q9 Write a code which can fetch all items from arr5 which are either greater than 25 or a multiple of 3\n",
    "arr5[(arr5>25) & (arr5%3==0) ]"
   ]
  },
  {
   "cell_type": "code",
   "execution_count": 57,
   "metadata": {},
   "outputs": [],
   "source": [
    "# Q10 Write a code to find the 10th, 25th, 50th(median) percentile of arr5\n",
    "# Percentiles are a very important concept in Statistics. If you don't know about it refer the video below\n",
    "# https://www.youtube.com/watch?v=Snf6Wpn-L4c\n",
    "# Hint: to solve this function google np.percentile()"
   ]
  },
  {
   "cell_type": "code",
   "execution_count": 58,
   "metadata": {},
   "outputs": [
    {
     "data": {
      "text/plain": [
       "21.400000000000002"
      ]
     },
     "execution_count": 58,
     "metadata": {},
     "output_type": "execute_result"
    }
   ],
   "source": [
    "np.percentile(arr5,10)"
   ]
  },
  {
   "cell_type": "code",
   "execution_count": 59,
   "metadata": {},
   "outputs": [
    {
     "data": {
      "text/plain": [
       "35.5"
      ]
     },
     "execution_count": 59,
     "metadata": {},
     "output_type": "execute_result"
    }
   ],
   "source": [
    "np.percentile(arr5,25)"
   ]
  },
  {
   "cell_type": "code",
   "execution_count": 60,
   "metadata": {},
   "outputs": [
    {
     "data": {
      "text/plain": [
       "68.0"
      ]
     },
     "execution_count": 60,
     "metadata": {},
     "output_type": "execute_result"
    }
   ],
   "source": [
    "np.percentile(arr5,50)"
   ]
  },
  {
   "cell_type": "code",
   "execution_count": null,
   "metadata": {},
   "outputs": [],
   "source": []
  }
 ],
 "metadata": {
  "kernelspec": {
   "display_name": "Python 3",
   "language": "python",
   "name": "python3"
  },
  "language_info": {
   "codemirror_mode": {
    "name": "ipython",
    "version": 3
   },
   "file_extension": ".py",
   "mimetype": "text/x-python",
   "name": "python",
   "nbconvert_exporter": "python",
   "pygments_lexer": "ipython3",
   "version": "3.7.6"
  }
 },
 "nbformat": 4,
 "nbformat_minor": 4
}
